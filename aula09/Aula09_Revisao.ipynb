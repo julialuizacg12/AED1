{
 "cells": [
  {
   "cell_type": "markdown",
   "metadata": {},
   "source": [
    "![Algoritmos e Estrutura de Dados I](AED1_banner.jpg)"
   ]
  },
  {
   "cell_type": "markdown",
   "metadata": {},
   "source": [
    "## <font color='blue'>Algoritmos e Estrutura de Dados I</font>\n",
    "## <font color='blue'>Aula 9 -  Revisão</font>"
   ]
  },
  {
   "cell_type": "code",
   "execution_count": null,
   "metadata": {},
   "outputs": [],
   "source": [
    "# Versão da Linguagem Python\n",
    "from platform import python_version\n",
    "print('Versão da Linguagem Python Usada Neste Jupyter Notebook:', python_version())"
   ]
  },
  {
   "cell_type": "markdown",
   "metadata": {},
   "source": [
    "## Estrutura sequencial"
   ]
  },
  {
   "cell_type": "markdown",
   "metadata": {},
   "source": [
    "Escreva um programa em Python que solicite ao usuário o valor de dois números, calcule e exiba a soma deles."
   ]
  },
  {
   "cell_type": "code",
   "execution_count": 8,
   "metadata": {},
   "outputs": [
    {
     "name": "stdin",
     "output_type": "stream",
     "text": [
      "Digite o primeiro número:  5\n",
      "Digite o segundo número:  5\n"
     ]
    },
    {
     "name": "stdout",
     "output_type": "stream",
     "text": [
      "O resultado é: 10.0 \n"
     ]
    }
   ],
   "source": [
    "numero1 = float(input(\"Digite o primeiro número: \"))\n",
    "numero2 = float(input(\"Digite o segundo número: \"))\n",
    "soma = numero1+numero2\n",
    "print (f\"O resultado é: {soma} \")"
   ]
  },
  {
   "attachments": {},
   "cell_type": "markdown",
   "metadata": {},
   "source": [
    "Escreva um programa em Python que solicite ao usuário a temperatura em graus Celsius e converta para Fahrenheit. A fórmula para conversão é F = C * 9/5 + 32.\n"
   ]
  },
  {
   "cell_type": "code",
   "execution_count": 10,
   "metadata": {},
   "outputs": [
    {
     "name": "stdin",
     "output_type": "stream",
     "text": [
      "Digite a temperatura em graus celsius:  25\n"
     ]
    },
    {
     "name": "stdout",
     "output_type": "stream",
     "text": [
      "A temperatura em f é:  77.0\n"
     ]
    }
   ],
   "source": [
    "celsius = float(input(\"Digite a temperatura em graus celsius: \"))\n",
    "farenheit = (celsius * 9/5 + 32)\n",
    "print(\"A temperatura em f é: \", farenheit)\n"
   ]
  },
  {
   "cell_type": "markdown",
   "metadata": {},
   "source": [
    "## Estrutura Condicional"
   ]
  },
  {
   "cell_type": "markdown",
   "metadata": {},
   "source": [
    "Escreva um programa em Python que solicite ao usuário um número e verifique se ele é positivo, negativo ou zero. Exiba a mensagem correspondente.\n"
   ]
  },
  {
   "cell_type": "code",
   "execution_count": 16,
   "metadata": {},
   "outputs": [
    {
     "name": "stdin",
     "output_type": "stream",
     "text": [
      "Digite um número:  0\n"
     ]
    },
    {
     "name": "stdout",
     "output_type": "stream",
     "text": [
      "Seu número é zero!\n"
     ]
    }
   ],
   "source": [
    "numero = float(input(\"Digite um número: \"))\n",
    "if numero > 0:\n",
    "    print(\"Seu número é positivo!\")\n",
    "elif numero == 0:\n",
    "    print(\"Seu número é zero!\")\n",
    "elif numero < 0:\n",
    "    print(\"Seu número é negativo!\")"
   ]
  },
  {
   "cell_type": "markdown",
   "metadata": {},
   "source": [
    "Escreva um programa em Python que solicite ao usuário três números e determine qual é o maior entre eles.\n"
   ]
  },
  {
   "cell_type": "code",
   "execution_count": 6,
   "metadata": {},
   "outputs": [
    {
     "name": "stdin",
     "output_type": "stream",
     "text": [
      "Digite o primeiro número:  5\n",
      "Digite o segundo número:  10\n",
      "Digite o terceiro número:  3\n"
     ]
    },
    {
     "name": "stdout",
     "output_type": "stream",
     "text": [
      "O segundo número é maior!\n"
     ]
    }
   ],
   "source": [
    "n1 = float(input(\"Digite o primeiro número: \"))\n",
    "n2 = float(input(\"Digite o segundo número: \"))\n",
    "n3 = float(input(\"Digite o terceiro número: \"))\n",
    "\n",
    "if n1 > n2 and n3:\n",
    "     print(\"O primeiro número é maior!\")\n",
    "elif n2 > n1 and n3:\n",
    "     print(\"O segundo número é maior!\")\n",
    "elif n3 > n1 and n2:\n",
    "     print(\"O terceiro número é maior!\")\n",
    "    "
   ]
  },
  {
   "cell_type": "markdown",
   "metadata": {},
   "source": [
    "## Estrutura de Repetição"
   ]
  },
  {
   "cell_type": "markdown",
   "metadata": {},
   "source": [
    "Escreva um programa em Pyhton que solicite um número inteiro positivo de 1 a 9 (você tem que verificar se o usuário não digitou fora desse intervalo) e em seguida, deve exibir a tabuada desse número.\n"
   ]
  },
  {
   "cell_type": "code",
   "execution_count": 11,
   "metadata": {},
   "outputs": [
    {
     "name": "stdin",
     "output_type": "stream",
     "text": [
      "Digite um valor de 1 a 9:  cem\n"
     ]
    },
    {
     "name": "stdout",
     "output_type": "stream",
     "text": [
      "O que foi digitado não é um número! Repita!\n"
     ]
    },
    {
     "name": "stdin",
     "output_type": "stream",
     "text": [
      "Digite um valor de 1 a 9:  100\n"
     ]
    },
    {
     "name": "stdout",
     "output_type": "stream",
     "text": [
      "Digite um valor entre 1 e 9!\n"
     ]
    },
    {
     "name": "stdin",
     "output_type": "stream",
     "text": [
      "Digite um valor de 1 a 9:  3\n"
     ]
    },
    {
     "name": "stdout",
     "output_type": "stream",
     "text": [
      "1 x 3.0 = 3.0\n",
      "2 x 3.0 = 6.0\n",
      "3 x 3.0 = 9.0\n",
      "4 x 3.0 = 12.0\n",
      "5 x 3.0 = 15.0\n",
      "6 x 3.0 = 18.0\n",
      "7 x 3.0 = 21.0\n",
      "8 x 3.0 = 24.0\n",
      "9 x 3.0 = 27.0\n",
      "10 x 3.0 = 30.0\n"
     ]
    }
   ],
   "source": [
    "while True:\n",
    "    digitacao = input(\"Digite um valor de 1 a 9: \")\n",
    "    if digitacao .isnumeric():\n",
    "        numero = float(digitacao)\n",
    "        if numero >= 1 and numero <= 9:\n",
    "            break\n",
    "        else:\n",
    "            print(\"Digite um valor entre 1 e 9!\")\n",
    "    else: \n",
    "        print(\"O que foi digitado não é um número! Repita!\")\n",
    "\n",
    "for i in range (1,11):\n",
    "    print(f\"{i} x {numero} = {i*numero}\")"
   ]
  },
  {
   "cell_type": "markdown",
   "metadata": {},
   "source": [
    "Escreva um programa em Python que exiba todos os números de 1 a 10.\n"
   ]
  },
  {
   "cell_type": "code",
   "execution_count": null,
   "metadata": {},
   "outputs": [],
   "source": [
    "\n"
   ]
  },
  {
   "cell_type": "markdown",
   "metadata": {},
   "source": [
    "Escreva um programa em Python que solicite ao usuário um número inteiro positivo e calcule o fatorial desse número.\n"
   ]
  },
  {
   "cell_type": "code",
   "execution_count": 16,
   "metadata": {},
   "outputs": [
    {
     "name": "stdin",
     "output_type": "stream",
     "text": [
      "Digite um valor de 1 a 9:  oi\n"
     ]
    },
    {
     "name": "stdout",
     "output_type": "stream",
     "text": [
      "O que foi digitado não é um número! Repita!\n"
     ]
    },
    {
     "name": "stdin",
     "output_type": "stream",
     "text": [
      "Digite um valor de 1 a 9:  -1\n"
     ]
    },
    {
     "name": "stdout",
     "output_type": "stream",
     "text": [
      "O que foi digitado não é um número! Repita!\n"
     ]
    },
    {
     "name": "stdin",
     "output_type": "stream",
     "text": [
      "Digite um valor de 1 a 9:  10\n"
     ]
    },
    {
     "name": "stdout",
     "output_type": "stream",
     "text": [
      "Digite um valor entre 1 e 9!\n"
     ]
    },
    {
     "name": "stdin",
     "output_type": "stream",
     "text": [
      "Digite um valor de 1 a 9:  5\n"
     ]
    },
    {
     "name": "stdout",
     "output_type": "stream",
     "text": [
      "fatorial de 5 é igual a 120\n"
     ]
    }
   ],
   "source": [
    "while True:\n",
    "    digitacao = input(\"Digite um valor de 1 a 9: \")\n",
    "    if digitacao .isnumeric():\n",
    "        numero = int(digitacao)\n",
    "        if numero >= 1 and numero <= 9:\n",
    "            break\n",
    "        else:\n",
    "            print(\"Digite um valor entre 1 e 9!\")\n",
    "    else: \n",
    "        print(\"O que foi digitado não é um número! Repita!\")\n",
    "        \n",
    "fatorial = 1\n",
    "for i in range(1, numero+1):\n",
    "    fatorial *= i\n",
    "\n",
    "print(f\"fatorial de {numero} é igual a {fatorial}\")"
   ]
  },
  {
   "cell_type": "markdown",
   "metadata": {},
   "source": [
    "## Geral"
   ]
  },
  {
   "cell_type": "markdown",
   "metadata": {},
   "source": [
    "Você é um cientista de dados e precisa analisar as notas de um conjunto de estudantes em uma disciplina. Você deverá escrever um programa em Python que solicite ao usuário o número de estudantes e, em seguida, as notas desses estudantes. O programa deve calcular e exibir:\n",
    "\n",
    "- A média das notas.\n",
    "- A maior e a menor nota.\n",
    "- O número de estudantes aprovados (nota maior ou igual a 6) e reprovados (nota menor que 6).\n",
    "\n",
    "Regras:\n",
    "\n",
    "- Utilize variáveis simples para armazenar as informações.\n",
    "- Utilize estruturas de repetição para coletar as notas dos estudantes.\n",
    "- Utilize estruturas condicionais para determinar o status de aprovação dos estudantes."
   ]
  },
  {
   "cell_type": "code",
   "execution_count": 21,
   "metadata": {},
   "outputs": [
    {
     "name": "stdin",
     "output_type": "stream",
     "text": [
      "Digite o total de estudantes:  5\n",
      "Entre com a nota do aluno 1:  1.5\n",
      "Entre com a nota do aluno 2:  7\n",
      "Entre com a nota do aluno 3:  8\n",
      "Entre com a nota do aluno 4:  5.5\n",
      "Entre com a nota do aluno 5:  3.5\n"
     ]
    },
    {
     "name": "stdout",
     "output_type": "stream",
     "text": [
      "A média das notas é igual a: 5.1\n",
      "A menor nota é igual a:..... 1.5\n",
      "A maior nota é igual a:.... 8.0\n",
      "O numero de aprovados é igual a:.... 2\n",
      "O número de reprovados é igual a:.. 3\n"
     ]
    }
   ],
   "source": [
    "qtd_estudantes = int(input(\"Digite o total de estudantes: \"))\n",
    "soma_notas = 0\n",
    "maior = 0\n",
    "menor = 10\n",
    "qtd_aprov = 0\n",
    "qtd_repro = 0\n",
    "\n",
    "for i in range(qtd_estudantes):\n",
    "    nota = float(input(f\"Entre com a nota do aluno {i+1}: \"))\n",
    "    if nota >= 6:\n",
    "        qtd_aprov += 1\n",
    "    else:\n",
    "        qtd_repro += 1\n",
    "\n",
    "    if nota > maior:\n",
    "        maior = nota\n",
    "    if nota < menor:\n",
    "        menor = nota\n",
    "\n",
    "    soma_notas += nota \n",
    "\n",
    "media = soma_notas / qtd_estudantes\n",
    "\n",
    "print(f\"A média das notas é igual a: {media}\")\n",
    "print(f\"A menor nota é igual a:..... {menor}\")\n",
    "print(f\"A maior nota é igual a:.... {maior}\")\n",
    "print(f\"O numero de aprovados é igual a:.... {qtd_aprov}\")\n",
    "print(f\"O número de reprovados é igual a:.. {qtd_repro}\")"
   ]
  },
  {
   "cell_type": "markdown",
   "metadata": {},
   "source": [
    "Faça um programa que receba um número inteiro positivo e transforme esse número para binário."
   ]
  },
  {
   "cell_type": "code",
   "execution_count": 29,
   "metadata": {},
   "outputs": [
    {
     "name": "stdin",
     "output_type": "stream",
     "text": [
      "Digite um número inteiro positivo:  3000\n"
     ]
    },
    {
     "name": "stdout",
     "output_type": "stream",
     "text": [
      "O número 3000 em binário é:  101110111000\n"
     ]
    }
   ],
   "source": [
    "numero = int(input(\"Digite um número inteiro positivo: \"))\n",
    "b = \"\"\n",
    "n = numero\n",
    "if numero == 0:\n",
    "    b = '0'\n",
    "else:\n",
    "    while numero > 0:\n",
    "        resto = numero % 2\n",
    "        digito = str(resto)\n",
    "        b = digito + b\n",
    "        numero = numero // 2\n",
    "print (f\"O número {n} em binário é: \", b)"
   ]
  },
  {
   "cell_type": "markdown",
   "metadata": {},
   "source": [
    "## Fim da Aula 9"
   ]
  }
 ],
 "metadata": {
  "kernelspec": {
   "display_name": "Python 3 (ipykernel)",
   "language": "python",
   "name": "python3"
  },
  "language_info": {
   "codemirror_mode": {
    "name": "ipython",
    "version": 3
   },
   "file_extension": ".py",
   "mimetype": "text/x-python",
   "name": "python",
   "nbconvert_exporter": "python",
   "pygments_lexer": "ipython3",
   "version": "3.12.4"
  }
 },
 "nbformat": 4,
 "nbformat_minor": 4
}

{
 "cells": [
  {
   "cell_type": "code",
   "execution_count": 1,
   "id": "176a651a-eb26-4122-8308-7935ac6bfae8",
   "metadata": {},
   "outputs": [
    {
     "name": "stdout",
     "output_type": "stream",
     "text": [
      "Olá Mundo!\n"
     ]
    }
   ],
   "source": [
    "print ('Olá Mundo!')"
   ]
  },
  {
   "cell_type": "code",
   "execution_count": 2,
   "id": "47d3afb3-17e9-4b93-b66e-03afd5257659",
   "metadata": {},
   "outputs": [
    {
     "data": {
      "text/plain": [
       "10"
      ]
     },
     "execution_count": 2,
     "metadata": {},
     "output_type": "execute_result"
    }
   ],
   "source": [
    "5+5"
   ]
  },
  {
   "cell_type": "code",
   "execution_count": 3,
   "id": "f9d12e89-16f4-40bb-bc10-4f7c9834fbbe",
   "metadata": {},
   "outputs": [],
   "source": [
    "nome = \"Julia Luiza\""
   ]
  },
  {
   "cell_type": "code",
   "execution_count": 4,
   "id": "fa6f12a9-f657-4f2b-8a78-500d06233d40",
   "metadata": {},
   "outputs": [
    {
     "data": {
      "text/plain": [
       "'Julia Luiza'"
      ]
     },
     "execution_count": 4,
     "metadata": {},
     "output_type": "execute_result"
    }
   ],
   "source": [
    "nome"
   ]
  },
  {
   "cell_type": "code",
   "execution_count": 5,
   "id": "44cd07b6-095c-4c04-8d07-e0b163f63412",
   "metadata": {},
   "outputs": [
    {
     "name": "stdout",
     "output_type": "stream",
     "text": [
      "Julia Luiza\n"
     ]
    }
   ],
   "source": [
    "print (nome)"
   ]
  },
  {
   "cell_type": "code",
   "execution_count": 6,
   "id": "7b49035b-5639-418d-8218-9e1d37595a57",
   "metadata": {},
   "outputs": [],
   "source": [
    "x = 345"
   ]
  },
  {
   "cell_type": "code",
   "execution_count": 7,
   "id": "d82a794d-4b87-48f9-b417-1506359d5bcd",
   "metadata": {},
   "outputs": [],
   "source": [
    "y= x + 2"
   ]
  },
  {
   "cell_type": "code",
   "execution_count": 8,
   "id": "88996682-f8bc-4696-9a6c-2f4abb59cd73",
   "metadata": {},
   "outputs": [
    {
     "data": {
      "text/plain": [
       "347"
      ]
     },
     "execution_count": 8,
     "metadata": {},
     "output_type": "execute_result"
    }
   ],
   "source": [
    "y"
   ]
  },
  {
   "cell_type": "code",
   "execution_count": 9,
   "id": "7b32f754-44c7-4231-b587-e862ef884676",
   "metadata": {},
   "outputs": [],
   "source": [
    "a = 5"
   ]
  },
  {
   "cell_type": "code",
   "execution_count": 10,
   "id": "7bbb2fea-077f-4623-8dc7-7c532eac7de5",
   "metadata": {},
   "outputs": [
    {
     "data": {
      "text/plain": [
       "int"
      ]
     },
     "execution_count": 10,
     "metadata": {},
     "output_type": "execute_result"
    }
   ],
   "source": [
    "type (a)"
   ]
  },
  {
   "cell_type": "code",
   "execution_count": 11,
   "id": "86066dbf-e95d-4e14-a3ef-712e95305485",
   "metadata": {},
   "outputs": [],
   "source": [
    "a = True"
   ]
  },
  {
   "cell_type": "code",
   "execution_count": 12,
   "id": "92b2eb15-4832-4f09-a694-934d9767ec6e",
   "metadata": {},
   "outputs": [
    {
     "data": {
      "text/plain": [
       "bool"
      ]
     },
     "execution_count": 12,
     "metadata": {},
     "output_type": "execute_result"
    }
   ],
   "source": [
    "type (a)"
   ]
  },
  {
   "cell_type": "code",
   "execution_count": 13,
   "id": "474991f4-c1e9-4d2a-a69e-b4a281a2453e",
   "metadata": {},
   "outputs": [],
   "source": [
    "a = 5.6"
   ]
  },
  {
   "cell_type": "code",
   "execution_count": 14,
   "id": "2d60caab-adb8-469f-9ea6-5968c218805c",
   "metadata": {},
   "outputs": [
    {
     "data": {
      "text/plain": [
       "float"
      ]
     },
     "execution_count": 14,
     "metadata": {},
     "output_type": "execute_result"
    }
   ],
   "source": [
    "type (a)"
   ]
  },
  {
   "cell_type": "code",
   "execution_count": 7,
   "id": "84bbceb6-73b2-4cab-8928-8c087a26059f",
   "metadata": {},
   "outputs": [],
   "source": [
    "x = 45\n",
    "y = 23"
   ]
  },
  {
   "cell_type": "code",
   "execution_count": 8,
   "id": "bf3d3d95-2634-42bf-9b66-94ab784b8837",
   "metadata": {},
   "outputs": [],
   "source": [
    "soma = x + y\n",
    "divisao = x/y"
   ]
  },
  {
   "cell_type": "code",
   "execution_count": 9,
   "id": "0d9b0e89-c9e7-4761-bf38-b177a7177db1",
   "metadata": {},
   "outputs": [
    {
     "data": {
      "text/plain": [
       "float"
      ]
     },
     "execution_count": 9,
     "metadata": {},
     "output_type": "execute_result"
    }
   ],
   "source": [
    "type (divisao)"
   ]
  },
  {
   "cell_type": "code",
   "execution_count": 18,
   "id": "5523bedf-48bc-41ed-8b2b-4b629243c917",
   "metadata": {},
   "outputs": [
    {
     "data": {
      "text/plain": [
       "int"
      ]
     },
     "execution_count": 18,
     "metadata": {},
     "output_type": "execute_result"
    }
   ],
   "source": [
    "type (soma)"
   ]
  },
  {
   "cell_type": "code",
   "execution_count": 19,
   "id": "04926c19-e26f-4f4e-ab79-a03bf0a757ab",
   "metadata": {},
   "outputs": [
    {
     "name": "stdout",
     "output_type": "stream",
     "text": [
      "68\n"
     ]
    }
   ],
   "source": [
    "print (soma)"
   ]
  },
  {
   "cell_type": "code",
   "execution_count": 20,
   "id": "0ced10d6-ef4f-4ac7-aa2e-279dd4c1f0a2",
   "metadata": {},
   "outputs": [
    {
     "data": {
      "text/plain": [
       "1.9565217391304348"
      ]
     },
     "execution_count": 20,
     "metadata": {},
     "output_type": "execute_result"
    }
   ],
   "source": [
    "x / y "
   ]
  },
  {
   "cell_type": "code",
   "execution_count": 21,
   "id": "ea920247-553e-4b09-ac8c-6cb5be59698e",
   "metadata": {},
   "outputs": [
    {
     "data": {
      "text/plain": [
       "1"
      ]
     },
     "execution_count": 21,
     "metadata": {},
     "output_type": "execute_result"
    }
   ],
   "source": [
    "x // y"
   ]
  },
  {
   "cell_type": "code",
   "execution_count": 22,
   "id": "d1da19e7-cb1e-4b82-a276-eb6bc14e798c",
   "metadata": {},
   "outputs": [
    {
     "data": {
      "text/plain": [
       "22"
      ]
     },
     "execution_count": 22,
     "metadata": {},
     "output_type": "execute_result"
    }
   ],
   "source": [
    "x % y"
   ]
  },
  {
   "cell_type": "code",
   "execution_count": 23,
   "id": "5e6f34b2-b488-4c4c-afdf-85f00ecf8302",
   "metadata": {},
   "outputs": [],
   "source": [
    "r = 100_000_000_000"
   ]
  },
  {
   "cell_type": "code",
   "execution_count": 24,
   "id": "7a7def75-d91b-445e-ba7a-323f1ee85a81",
   "metadata": {},
   "outputs": [
    {
     "data": {
      "text/plain": [
       "100000000000"
      ]
     },
     "execution_count": 24,
     "metadata": {},
     "output_type": "execute_result"
    }
   ],
   "source": [
    "r"
   ]
  },
  {
   "cell_type": "code",
   "execution_count": 25,
   "id": "08c25dfa-b97b-4705-bf38-109da8810185",
   "metadata": {},
   "outputs": [
    {
     "data": {
      "text/plain": [
       "105654455657631171893227100372314453125"
      ]
     },
     "execution_count": 25,
     "metadata": {},
     "output_type": "execute_result"
    }
   ],
   "source": [
    "x ** y"
   ]
  },
  {
   "cell_type": "code",
   "execution_count": 4,
   "id": "036a9866-a8e4-4091-8ac3-0c5bf90d2b77",
   "metadata": {},
   "outputs": [],
   "source": [
    "x = 111111111111111111111111111111111111111111111111111111111111111111111111111111111111111111111111111111111111111111111111111111111111111111111111111111111111111111111111111111111111111111111111111111111111111111111111111111111111111111111111111111111111111111111\n",
    "y = x ** 2"
   ]
  },
  {
   "cell_type": "code",
   "execution_count": 2,
   "id": "2ef03cd5-da4d-460c-8be8-6a8ed8d78026",
   "metadata": {},
   "outputs": [
    {
     "data": {
      "text/plain": [
       "111111111111111111111111111111111111111111111111111111111111111111111111111111111111111111111111111111111111111111111111111111111111111111111111111111111111111111111111111111111111111111111111111111111111111111111111111111111111111111111111111111111111111111111"
      ]
     },
     "execution_count": 2,
     "metadata": {},
     "output_type": "execute_result"
    }
   ],
   "source": [
    "x"
   ]
  },
  {
   "cell_type": "code",
   "execution_count": 5,
   "id": "3a81f6b5-d7a8-4a60-b5c7-8df7a0c78bbb",
   "metadata": {},
   "outputs": [
    {
     "data": {
      "text/plain": [
       "12345679012345679012345679012345679012345679012345679012345679012345679012345679012345679012345679012345679012345679012345679012345679012345679012345679012345679012345679012345679012345679012345679012345679012345679012345679012345679012345679012345679012345678987654320987654320987654320987654320987654320987654320987654320987654320987654320987654320987654320987654320987654320987654320987654320987654320987654320987654320987654320987654320987654320987654320987654320987654320987654320987654320987654320987654320987654321"
      ]
     },
     "execution_count": 5,
     "metadata": {},
     "output_type": "execute_result"
    }
   ],
   "source": [
    "y"
   ]
  },
  {
   "cell_type": "code",
   "execution_count": 16,
   "id": "6585d9d2-19e7-468d-9ae9-f67625dd4c1d",
   "metadata": {},
   "outputs": [],
   "source": [
    "y = 4.9"
   ]
  },
  {
   "cell_type": "code",
   "execution_count": 17,
   "id": "728374ab-7b5a-4bce-ba90-28b5e5bfd6bf",
   "metadata": {},
   "outputs": [
    {
     "data": {
      "text/plain": [
       "float"
      ]
     },
     "execution_count": 17,
     "metadata": {},
     "output_type": "execute_result"
    }
   ],
   "source": [
    "type(y)"
   ]
  },
  {
   "cell_type": "code",
   "execution_count": 18,
   "id": "d131ea21-4f13-4799-b98f-9b35a3d58e21",
   "metadata": {},
   "outputs": [
    {
     "data": {
      "text/plain": [
       "4"
      ]
     },
     "execution_count": 18,
     "metadata": {},
     "output_type": "execute_result"
    }
   ],
   "source": [
    "int (y)"
   ]
  },
  {
   "cell_type": "code",
   "execution_count": 19,
   "id": "cec2eb0c-5cf7-4016-8666-68478337aebe",
   "metadata": {},
   "outputs": [],
   "source": [
    "x = True"
   ]
  },
  {
   "cell_type": "code",
   "execution_count": 20,
   "id": "ff769e8a-8160-410a-8b32-5239df269723",
   "metadata": {},
   "outputs": [
    {
     "data": {
      "text/plain": [
       "True"
      ]
     },
     "execution_count": 20,
     "metadata": {},
     "output_type": "execute_result"
    }
   ],
   "source": [
    "x "
   ]
  },
  {
   "cell_type": "code",
   "execution_count": 21,
   "id": "35fe16ce-b563-4162-84c9-96970f7b00f0",
   "metadata": {},
   "outputs": [],
   "source": [
    "y = False"
   ]
  },
  {
   "cell_type": "code",
   "execution_count": 22,
   "id": "4b8d63e0-dc87-45e9-8e1d-44c0906f79e7",
   "metadata": {},
   "outputs": [
    {
     "data": {
      "text/plain": [
       "False"
      ]
     },
     "execution_count": 22,
     "metadata": {},
     "output_type": "execute_result"
    }
   ],
   "source": [
    "x and y"
   ]
  },
  {
   "cell_type": "code",
   "execution_count": 23,
   "id": "ee62c148-bdaf-44e7-9424-0fedc5e4fdb8",
   "metadata": {},
   "outputs": [
    {
     "data": {
      "text/plain": [
       "True"
      ]
     },
     "execution_count": 23,
     "metadata": {},
     "output_type": "execute_result"
    }
   ],
   "source": [
    "x or y"
   ]
  },
  {
   "cell_type": "code",
   "execution_count": 24,
   "id": "6b0d8a70-4453-4433-872e-447a9599e726",
   "metadata": {},
   "outputs": [
    {
     "data": {
      "text/plain": [
       "False"
      ]
     },
     "execution_count": 24,
     "metadata": {},
     "output_type": "execute_result"
    }
   ],
   "source": [
    "not x"
   ]
  },
  {
   "cell_type": "code",
   "execution_count": 34,
   "id": "75250da6-3497-45ba-ac35-3c2c46e16320",
   "metadata": {},
   "outputs": [],
   "source": [
    "nome = \"Luiza\"\n"
   ]
  },
  {
   "cell_type": "code",
   "execution_count": 35,
   "id": "e0c579f1-5399-4505-a0f8-1dab1d5d5ff5",
   "metadata": {},
   "outputs": [
    {
     "data": {
      "text/plain": [
       "str"
      ]
     },
     "execution_count": 35,
     "metadata": {},
     "output_type": "execute_result"
    }
   ],
   "source": [
    "type (nome)"
   ]
  },
  {
   "cell_type": "code",
   "execution_count": 36,
   "id": "03fb556e-c84b-42db-b854-ea1dfd727223",
   "metadata": {},
   "outputs": [],
   "source": [
    "prenome = \"Julia\""
   ]
  },
  {
   "cell_type": "code",
   "execution_count": 37,
   "id": "fd981bf7-1d1a-4442-9aaf-bd2ec43d7b0e",
   "metadata": {},
   "outputs": [],
   "source": [
    "nome_completo = prenome + ' ' + nome"
   ]
  },
  {
   "cell_type": "code",
   "execution_count": 38,
   "id": "f74a65d1-be8a-46a9-8bbd-a5c2f991b171",
   "metadata": {},
   "outputs": [
    {
     "data": {
      "text/plain": [
       "'Julia Luiza'"
      ]
     },
     "execution_count": 38,
     "metadata": {},
     "output_type": "execute_result"
    }
   ],
   "source": [
    "nome_completo"
   ]
  },
  {
   "cell_type": "code",
   "execution_count": 39,
   "id": "7b976e01-b535-468b-80c0-767e613323fd",
   "metadata": {},
   "outputs": [
    {
     "data": {
      "text/plain": [
       "'LuizaLuizaLuizaLuiza'"
      ]
     },
     "execution_count": 39,
     "metadata": {},
     "output_type": "execute_result"
    }
   ],
   "source": [
    "nome * 4"
   ]
  },
  {
   "cell_type": "code",
   "execution_count": 40,
   "id": "4f5f5835-c7db-4bed-86aa-a089450809d3",
   "metadata": {},
   "outputs": [
    {
     "data": {
      "text/plain": [
       "'L'"
      ]
     },
     "execution_count": 40,
     "metadata": {},
     "output_type": "execute_result"
    }
   ],
   "source": [
    "nome [0]"
   ]
  },
  {
   "cell_type": "code",
   "execution_count": 41,
   "id": "70005887-448a-4507-8b7b-26dce41e76ec",
   "metadata": {},
   "outputs": [
    {
     "data": {
      "text/plain": [
       "'Lu'"
      ]
     },
     "execution_count": 41,
     "metadata": {},
     "output_type": "execute_result"
    }
   ],
   "source": [
    "nome[0:2]"
   ]
  },
  {
   "cell_type": "code",
   "execution_count": 42,
   "id": "735c8f57-a785-4a75-8220-eaea298db8ce",
   "metadata": {},
   "outputs": [
    {
     "data": {
      "text/plain": [
       "'A'"
      ]
     },
     "execution_count": 42,
     "metadata": {},
     "output_type": "execute_result"
    }
   ],
   "source": [
    "chr(65)"
   ]
  },
  {
   "cell_type": "code",
   "execution_count": 43,
   "id": "6fb0cbea-8240-46b4-a3ee-fce13a964cf1",
   "metadata": {},
   "outputs": [
    {
     "data": {
      "text/plain": [
       "'a'"
      ]
     },
     "execution_count": 43,
     "metadata": {},
     "output_type": "execute_result"
    }
   ],
   "source": [
    "chr(97)"
   ]
  },
  {
   "cell_type": "code",
   "execution_count": 44,
   "id": "ea579aa6-be25-43df-ba99-7a1da604f8a6",
   "metadata": {},
   "outputs": [
    {
     "data": {
      "text/plain": [
       "97"
      ]
     },
     "execution_count": 44,
     "metadata": {},
     "output_type": "execute_result"
    }
   ],
   "source": [
    "ord('a')"
   ]
  },
  {
   "cell_type": "code",
   "execution_count": null,
   "id": "3852b2b5-57c2-4006-9a31-eb6fb04b1ceb",
   "metadata": {},
   "outputs": [],
   "source": []
  }
 ],
 "metadata": {
  "kernelspec": {
   "display_name": "Python 3 (ipykernel)",
   "language": "python",
   "name": "python3"
  },
  "language_info": {
   "codemirror_mode": {
    "name": "ipython",
    "version": 3
   },
   "file_extension": ".py",
   "mimetype": "text/x-python",
   "name": "python",
   "nbconvert_exporter": "python",
   "pygments_lexer": "ipython3",
   "version": "3.12.4"
  }
 },
 "nbformat": 4,
 "nbformat_minor": 5
}
